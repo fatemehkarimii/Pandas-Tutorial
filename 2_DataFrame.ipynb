{
  "nbformat": 4,
  "nbformat_minor": 0,
  "metadata": {
    "colab": {
      "name": "2_DataFrame.ipynb",
      "provenance": [],
      "authorship_tag": "ABX9TyPgHWiESSvSwgUHDKdudvMX",
      "include_colab_link": true
    },
    "kernelspec": {
      "name": "python3",
      "display_name": "Python 3"
    },
    "language_info": {
      "name": "python"
    }
  },
  "cells": [
    {
      "cell_type": "markdown",
      "metadata": {
        "id": "view-in-github",
        "colab_type": "text"
      },
      "source": [
        "<a href=\"https://colab.research.google.com/github/fatemehkarimii/Pandas-Tutorial/blob/main/2_DataFrame.ipynb\" target=\"_parent\"><img src=\"https://colab.research.google.com/assets/colab-badge.svg\" alt=\"Open In Colab\"/></a>"
      ]
    },
    {
      "cell_type": "markdown",
      "source": [
        "#What is a DataFrame?\n",
        "A Pandas DataFrame is a 2 dimensional data structure, like a 2 dimensional array, or a table with rows and columns."
      ],
      "metadata": {
        "id": "-pmVi-b7--dV"
      }
    },
    {
      "cell_type": "code",
      "execution_count": 1,
      "metadata": {
        "colab": {
          "base_uri": "https://localhost:8080/"
        },
        "id": "wibIMGnu-0fI",
        "outputId": "6f081aaf-29b8-49bb-9711-94dd6b678953"
      },
      "outputs": [
        {
          "output_type": "stream",
          "name": "stdout",
          "text": [
            "   calories  duration\n",
            "0       420        50\n",
            "1       380        40\n",
            "2       390        45\n"
          ]
        }
      ],
      "source": [
        "#Create a simple Pandas DataFrame:\n",
        "import pandas as pd\n",
        "\n",
        "data = {\n",
        "  \"calories\": [420, 380, 390],\n",
        "  \"duration\": [50, 40, 45]\n",
        "}\n",
        "\n",
        "#load data into a DataFrame object:\n",
        "df = pd.DataFrame(data)\n",
        "\n",
        "print(df) "
      ]
    },
    {
      "cell_type": "markdown",
      "source": [
        "#Locate Row\n",
        "As you can see from the result above, the DataFrame is like a table with rows and columns.\n",
        "\n",
        "Pandas use the loc attribute to return one or more specified row(s)\n"
      ],
      "metadata": {
        "id": "kU0XmNNm_NrQ"
      }
    },
    {
      "cell_type": "code",
      "source": [
        "#refer to the row index:\n",
        "print(df.loc[0])\n",
        "print(df.loc[[0, 1]]) #Note: When using [], the result is a Pandas DataFrame."
      ],
      "metadata": {
        "colab": {
          "base_uri": "https://localhost:8080/"
        },
        "id": "m-ZFz-r7_LCa",
        "outputId": "abd7d060-ddce-4679-ff29-dd29f885d023"
      },
      "execution_count": 3,
      "outputs": [
        {
          "output_type": "stream",
          "name": "stdout",
          "text": [
            "calories    420\n",
            "duration     50\n",
            "Name: 0, dtype: int64\n",
            "   calories  duration\n",
            "0       420        50\n",
            "1       380        40\n"
          ]
        }
      ]
    },
    {
      "cell_type": "markdown",
      "source": [
        "#Named Indexes\n",
        "With the index argument, you can name your own indexes."
      ],
      "metadata": {
        "id": "Pzh05g16_pYM"
      }
    },
    {
      "cell_type": "code",
      "source": [
        "#Add a list of names to give each row a name:\n",
        "\n",
        "import pandas as pd\n",
        "\n",
        "data = {\n",
        "  \"calories\": [420, 380, 390],\n",
        "  \"duration\": [50, 40, 45]\n",
        "}\n",
        "\n",
        "df = pd.DataFrame(data, index = [\"day1\", \"day2\", \"day3\"])\n",
        "\n",
        "print(df) "
      ],
      "metadata": {
        "colab": {
          "base_uri": "https://localhost:8080/"
        },
        "id": "tYDSYY05_n79",
        "outputId": "0b56f200-c8d6-461b-9d2e-6b4a909f1e9f"
      },
      "execution_count": 4,
      "outputs": [
        {
          "output_type": "stream",
          "name": "stdout",
          "text": [
            "      calories  duration\n",
            "day1       420        50\n",
            "day2       380        40\n",
            "day3       390        45\n"
          ]
        }
      ]
    },
    {
      "cell_type": "code",
      "source": [
        "print(df.loc[\"day2\"])"
      ],
      "metadata": {
        "colab": {
          "base_uri": "https://localhost:8080/"
        },
        "id": "LBVUw0MW_2RS",
        "outputId": "9ead92e6-b18e-4a80-e8d3-5c7511e78f06"
      },
      "execution_count": 5,
      "outputs": [
        {
          "output_type": "stream",
          "name": "stdout",
          "text": [
            "calories    380\n",
            "duration     40\n",
            "Name: day2, dtype: int64\n"
          ]
        }
      ]
    },
    {
      "cell_type": "code",
      "source": [
        "#Load a comma separated file (CSV file) into a DataFrame:\n",
        "\n",
        "import pandas as pd\n",
        "df = pd.read_csv('data.csv')\n",
        "print(df) "
      ],
      "metadata": {
        "id": "uS_U8WXrAJeX"
      },
      "execution_count": null,
      "outputs": []
    }
  ]
}